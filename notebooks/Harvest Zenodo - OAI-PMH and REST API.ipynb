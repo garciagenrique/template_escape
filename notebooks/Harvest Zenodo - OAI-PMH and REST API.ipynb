{
 "cells": [
  {
   "cell_type": "markdown",
   "id": "b0fcf1bf",
   "metadata": {},
   "source": [
    "<h1><center> <font size=\"36\"> How to harvest metadata from Zenodo </font> </center></h1>\n",
    "\n",
    "#### Notebook outline \n",
    " - Zenodo OAI-PMH protocol\n",
    " - Zenodo REST API\n",
    "     - Exploration of the REST API answer (payload) with the `request` library\n",
    "     - Using `ZenodoCI` lib\n",
    "     - Using `PyZenodo3` lib"
   ]
  },
  {
   "cell_type": "markdown",
   "id": "2193adc5",
   "metadata": {},
   "source": [
    "## OAI-PMH protocol"
   ]
  },
  {
   "cell_type": "markdown",
   "id": "9bb7e516",
   "metadata": {},
   "source": [
    "####  - A nice [tutorial to the protocol](https://indico.cern.ch/event/5710/sessions/108048/attachments/988151/1405129/Simeon_tutorial.pdf)."
   ]
  },
  {
   "cell_type": "markdown",
   "id": "1bcf7733",
   "metadata": {},
   "source": [
    "The [OAI-PMH protocol](https://www.openarchives.org/pmh/) uses a base URL + special syntax ('verbs') to query and find metadata representation(s) of a data provider.\n",
    "\n",
    "In the case of zenodo the base URL is:  https://zenodo.org/oai2d.\n",
    "\n",
    "For example; \n",
    " - to retrieve all the entries (`verb=ListRecords`)\n",
    " - belonging to escape2020 community (`set=user-escape2020`)\n",
    " - in the OAI DataCite metadata representation (`metadataPrefix=oai_datacite`)\n",
    " \n",
    "https://zenodo.org/oai2d?verb=ListRecords&set=user-escape2020&metadataPrefix=oai_datacite\n",
    "\n",
    "\n",
    "Ex2:\n",
    " - To obtain a single entry (`verb=GetRecord`)\n",
    " - of a certain zenodo record - identified by the entry_id (`identifier=oai:zenodo.org:4105896`)\n",
    " - in the Dublin Core metadata representation (`metadataPrefix=oai_dc`)\n",
    " \n",
    "https://zenodo.org/oai2d?verb=GetRecord&metadataPrefix=oai_dc&identifier=oai:zenodo.org:4105896"
   ]
  },
  {
   "cell_type": "markdown",
   "id": "26eba497",
   "metadata": {},
   "source": [
    "## Example with the OAI-PMH protocol: A python OAI-Harvester"
   ]
  },
  {
   "cell_type": "markdown",
   "id": "145835bd",
   "metadata": {},
   "source": [
    "```\n",
    "pip install oaiharvest\n",
    "oai-harvest -h\n",
    "\n",
    "# Examples of usage\n",
    "oai-harvest https://zenodo.org/oai2d -s \"user-escape2020\" -d oai_dc\n",
    "oai-harvest https://zenodo.org/oai2d -s \"user-escape2020\" -d oai_datacite4\n",
    "oai-harvest https://zenodo.org/oai2d -s \"user-escape2020\" -d datacite3\n",
    "\n",
    "# Example of output\n",
    "$ oai-harvest https://zenodo.org/oai2d -s \"user-escape2020\" -d datacite3\n",
    "$ cd datacite3\n",
    "$ ls\n",
    "oai:zenodo.org:1689986.oai_dc.xml oai:zenodo.org:3884963.oai_dc.xml\n",
    "oai:zenodo.org:2533132.oai_dc.xml oai:zenodo.org:3967386.oai_dc.xml\n",
    "oai:zenodo.org:2542652.oai_dc.xml oai:zenodo.org:4012169.oai_dc.xml\n",
    "oai:zenodo.org:2542664.oai_dc.xml oai:zenodo.org:4028908.oai_dc.xml\n",
    "oai:zenodo.org:3356656.oai_dc.xml oai:zenodo.org:4044010.oai_dc.xml\n",
    "oai:zenodo.org:3362435.oai_dc.xml oai:zenodo.org:4055176.oai_dc.xml\n",
    "oai:zenodo.org:3572655.oai_dc.xml oai:zenodo.org:4105896.oai_dc.xml\n",
    "oai:zenodo.org:3614662.oai_dc.xml oai:zenodo.org:4311271.oai_dc.xml\n",
    "oai:zenodo.org:3659184.oai_dc.xml oai:zenodo.org:4419866.oai_dc.xml\n",
    "oai:zenodo.org:3675081.oai_dc.xml oai:zenodo.org:4601451.oai_dc.xml\n",
    "oai:zenodo.org:3734091.oai_dc.xml oai:zenodo.org:4687123.oai_dc.xml\n",
    "oai:zenodo.org:3743489.oai_dc.xml oai:zenodo.org:4786641.oai_dc.xml\n",
    "oai:zenodo.org:3743490.oai_dc.xml oai:zenodo.org:4790629.oai_dc.xml\n",
    "oai:zenodo.org:3854976.oai_dc.xml\n",
    "$ cat <FILE>\n",
    "```"
   ]
  },
  {
   "cell_type": "markdown",
   "id": "c6a47567",
   "metadata": {},
   "source": [
    "# Query Zenodo's records through its REST API"
   ]
  },
  {
   "cell_type": "code",
   "execution_count": 1,
   "id": "26424a79",
   "metadata": {},
   "outputs": [],
   "source": [
    "# pip install request"
   ]
  },
  {
   "cell_type": "code",
   "execution_count": 2,
   "id": "e7a84906",
   "metadata": {},
   "outputs": [],
   "source": [
    "import requests"
   ]
  },
  {
   "cell_type": "code",
   "execution_count": 24,
   "id": "076bfee8",
   "metadata": {},
   "outputs": [],
   "source": [
    "token = ''"
   ]
  },
  {
   "cell_type": "markdown",
   "id": "87f186f9",
   "metadata": {},
   "source": [
    "We would need to specify some arguments to reduce the search"
   ]
  },
  {
   "cell_type": "code",
   "execution_count": 4,
   "id": "5ee3a192",
   "metadata": {},
   "outputs": [],
   "source": [
    "parameters = {'access_token': token,\n",
    "              'communities': 'escape2020',\n",
    "              'size':100}"
   ]
  },
  {
   "cell_type": "markdown",
   "id": "4cd8011b",
   "metadata": {},
   "source": [
    "## Example with the `requests` lib - How to recover all ESCAPE2020 community records ?"
   ]
  },
  {
   "cell_type": "code",
   "execution_count": 5,
   "id": "fde5ee19",
   "metadata": {},
   "outputs": [
    {
     "data": {
      "text/plain": [
       "dict_keys(['aggregations', 'hits', 'links'])"
      ]
     },
     "execution_count": 5,
     "metadata": {},
     "output_type": "execute_result"
    }
   ],
   "source": [
    "escape2020 = requests.get('https://zenodo.org/api/records', params=parameters).json()\n",
    "escape2020.keys()"
   ]
  },
  {
   "cell_type": "markdown",
   "id": "9e564b25",
   "metadata": {},
   "source": [
    "Let's explore the REST API payload to find the desired information."
   ]
  },
  {
   "cell_type": "code",
   "execution_count": 6,
   "id": "2506740f",
   "metadata": {},
   "outputs": [
    {
     "data": {
      "text/plain": [
       "{'access_right': {'buckets': [{'doc_count': 13, 'key': 'open'}],\n",
       "  'doc_count_error_upper_bound': 0,\n",
       "  'sum_other_doc_count': 0},\n",
       " 'file_type': {'buckets': [{'doc_count': 6, 'key': 'zip'},\n",
       "   {'doc_count': 3, 'key': 'gz'},\n",
       "   {'doc_count': 3, 'key': 'pdf'},\n",
       "   {'doc_count': 2, 'key': 'json'},\n",
       "   {'doc_count': 1, 'key': ''},\n",
       "   {'doc_count': 1, 'key': 'md'},\n",
       "   {'doc_count': 1, 'key': 'simg'}],\n",
       "  'doc_count_error_upper_bound': 0,\n",
       "  'sum_other_doc_count': 0},\n",
       " 'keywords': {'buckets': [{'doc_count': 3, 'key': 'ESCAPE'},\n",
       "   {'doc_count': 2, 'key': 'CTA'},\n",
       "   {'doc_count': 1,\n",
       "    'key': 'European Open Science Cloud, ESFRI, e-Infrastructures'},\n",
       "   {'doc_count': 1,\n",
       "    'key': 'Machine Learning, Big Data, Aapche Kafka, Gravitational Wave'},\n",
       "   {'doc_count': 1, 'key': 'analysis'},\n",
       "   {'doc_count': 1, 'key': 'c-plus-plus'},\n",
       "   {'doc_count': 1, 'key': 'cmake'},\n",
       "   {'doc_count': 1, 'key': 'geant4'},\n",
       "   {'doc_count': 1, 'key': 'modular'},\n",
       "   {'doc_count': 1, 'key': 'reconstruction'}],\n",
       "  'doc_count_error_upper_bound': 0,\n",
       "  'sum_other_doc_count': 2},\n",
       " 'type': {'buckets': [{'doc_count': 10,\n",
       "    'key': 'software',\n",
       "    'subtype': {'buckets': [],\n",
       "     'doc_count_error_upper_bound': 0,\n",
       "     'sum_other_doc_count': 0}},\n",
       "   {'doc_count': 2,\n",
       "    'key': 'publication',\n",
       "    'subtype': {'buckets': [{'doc_count': 1, 'key': 'other'},\n",
       "      {'doc_count': 1, 'key': 'workingpaper'}],\n",
       "     'doc_count_error_upper_bound': 0,\n",
       "     'sum_other_doc_count': 0}},\n",
       "   {'doc_count': 1,\n",
       "    'key': 'poster',\n",
       "    'subtype': {'buckets': [],\n",
       "     'doc_count_error_upper_bound': 0,\n",
       "     'sum_other_doc_count': 0}}],\n",
       "  'doc_count_error_upper_bound': 0,\n",
       "  'sum_other_doc_count': 0}}"
      ]
     },
     "execution_count": 6,
     "metadata": {},
     "output_type": "execute_result"
    }
   ],
   "source": [
    "# Nice summary of the request we just made\n",
    "escape2020['aggregations']"
   ]
  },
  {
   "cell_type": "code",
   "execution_count": 7,
   "id": "dd36b4be",
   "metadata": {},
   "outputs": [
    {
     "name": "stdout",
     "output_type": "stream",
     "text": [
      "dict_keys(['hits', 'total'])\n",
      "13\n"
     ]
    }
   ],
   "source": [
    "# Total number of entries in the payload\n",
    "print(escape2020['hits'].keys())\n",
    "print(escape2020['hits']['total'])"
   ]
  },
  {
   "cell_type": "code",
   "execution_count": 8,
   "id": "0550cffb",
   "metadata": {},
   "outputs": [],
   "source": [
    "all_entries = escape2020['hits']['hits']"
   ]
  },
  {
   "cell_type": "code",
   "execution_count": 9,
   "id": "94a4e8c9",
   "metadata": {
    "scrolled": true
   },
   "outputs": [
    {
     "data": {
      "text/plain": [
       "{'conceptdoi': '10.5281/zenodo.3572654',\n",
       " 'conceptrecid': '3572654',\n",
       " 'created': '2021-05-25T14:00:15.944774+00:00',\n",
       " 'doi': '10.5281/zenodo.4790629',\n",
       " 'files': [{'bucket': '923a2614-a0fa-4927-bb3b-704168f3c768',\n",
       "   'checksum': 'md5:9787677bb5b63f86459dbdd230b74d0f',\n",
       "   'key': 'codemeta.json',\n",
       "   'links': {'self': 'https://zenodo.org/api/files/923a2614-a0fa-4927-bb3b-704168f3c768/codemeta.json'},\n",
       "   'size': 3714,\n",
       "   'type': 'json'},\n",
       "  {'bucket': '923a2614-a0fa-4927-bb3b-704168f3c768',\n",
       "   'checksum': 'md5:5cba809c8d787b362eaaf9e0529cf09b',\n",
       "   'key': 'Singularity',\n",
       "   'links': {'self': 'https://zenodo.org/api/files/923a2614-a0fa-4927-bb3b-704168f3c768/Singularity'},\n",
       "   'size': 1441,\n",
       "   'type': ''},\n",
       "  {'bucket': '923a2614-a0fa-4927-bb3b-704168f3c768',\n",
       "   'checksum': 'md5:6b992ab60974a8360550c5fe5cdb5239',\n",
       "   'key': 'Singularity.simg',\n",
       "   'links': {'self': 'https://zenodo.org/api/files/923a2614-a0fa-4927-bb3b-704168f3c768/Singularity.simg'},\n",
       "   'size': 283996191,\n",
       "   'type': 'simg'},\n",
       "  {'bucket': '923a2614-a0fa-4927-bb3b-704168f3c768',\n",
       "   'checksum': 'md5:b8a4b2e9a2e13901ee3496659a0b231b',\n",
       "   'key': 'template_project_escape-v2.1.zip',\n",
       "   'links': {'self': 'https://zenodo.org/api/files/923a2614-a0fa-4927-bb3b-704168f3c768/template_project_escape-v2.1.zip'},\n",
       "   'size': 19277,\n",
       "   'type': 'zip'}],\n",
       " 'id': 4790629,\n",
       " 'links': {'badge': 'https://zenodo.org/badge/doi/10.5281/zenodo.4790629.svg',\n",
       "  'bucket': 'https://zenodo.org/api/files/923a2614-a0fa-4927-bb3b-704168f3c768',\n",
       "  'conceptbadge': 'https://zenodo.org/badge/doi/10.5281/zenodo.3572654.svg',\n",
       "  'conceptdoi': 'https://doi.org/10.5281/zenodo.3572654',\n",
       "  'doi': 'https://doi.org/10.5281/zenodo.4790629',\n",
       "  'html': 'https://zenodo.org/record/4790629',\n",
       "  'latest': 'https://zenodo.org/api/records/4790629',\n",
       "  'latest_html': 'https://zenodo.org/record/4790629',\n",
       "  'self': 'https://zenodo.org/api/records/4790629'},\n",
       " 'metadata': {'access_right': 'open',\n",
       "  'access_right_category': 'success',\n",
       "  'communities': [{'id': 'escape2020'}],\n",
       "  'creators': [{'affiliation': 'LAPP, CNRS',\n",
       "    'name': 'Garcia, Enrique',\n",
       "    'orcid': '0000-0003-2224-4594'},\n",
       "   {'affiliation': 'LAPP, CNRS',\n",
       "    'name': 'Vuillaume, Thomas',\n",
       "    'orcid': '0000-0002-5686-2078'}],\n",
       "  'description': '<p>A template Git project for ESCAPE</p>',\n",
       "  'doi': '10.5281/zenodo.4790629',\n",
       "  'grants': [{'acronym': 'ESCAPE',\n",
       "    'code': '824064',\n",
       "    'funder': {'acronyms': [],\n",
       "     'doi': '10.13039/501100000780',\n",
       "     'links': {'self': 'https://zenodo.org/api/funders/10.13039/501100000780'},\n",
       "     'name': 'European Commission'},\n",
       "    'links': {'self': 'https://zenodo.org/api/grants/10.13039/501100000780::824064'},\n",
       "    'program': 'H2020',\n",
       "    'title': 'European Science Cluster of Astronomy & Particle physics ESFRI research infrastructures'}],\n",
       "  'keywords': ['ESCAPE'],\n",
       "  'language': 'eng',\n",
       "  'license': {'id': 'MIT'},\n",
       "  'notes': 'Release Notes: Automatise the building of Docker and Singularity in container/images in the CI. Cleaning of the repo to include all the new python modules that before were part of the project and contained different functionalities (.zenodoci, ci-generator...)',\n",
       "  'publication_date': '2021-05-25',\n",
       "  'related_identifiers': [{'identifier': '10.5281/zenodo.3572654',\n",
       "    'relation': 'isVersionOf',\n",
       "    'scheme': 'doi'}],\n",
       "  'relations': {'version': [{'count': 4,\n",
       "     'index': 3,\n",
       "     'is_last': True,\n",
       "     'last_child': {'pid_type': 'recid', 'pid_value': '4790629'},\n",
       "     'parent': {'pid_type': 'recid', 'pid_value': '3572654'}}]},\n",
       "  'resource_type': {'title': 'Software', 'type': 'software'},\n",
       "  'title': 'ESCAPE template project',\n",
       "  'version': 'v2.1'},\n",
       " 'owners': [81060],\n",
       " 'revision': 4,\n",
       " 'stats': {'downloads': 7.0,\n",
       "  'unique_downloads': 5.0,\n",
       "  'unique_views': 5.0,\n",
       "  'version_downloads': 25.0,\n",
       "  'version_unique_downloads': 16.0,\n",
       "  'version_unique_views': 158.0,\n",
       "  'version_views': 260.0,\n",
       "  'version_volume': 403353407.0,\n",
       "  'views': 12.0,\n",
       "  'volume': 57124.0},\n",
       " 'updated': '2021-05-26T01:48:20.526996+00:00'}"
      ]
     },
     "execution_count": 9,
     "metadata": {},
     "output_type": "execute_result"
    }
   ],
   "source": [
    "# The content of the first entry of the payload - It contain all the info that we can also find in Zenodo\n",
    "all_entries[0]"
   ]
  },
  {
   "cell_type": "code",
   "execution_count": 10,
   "id": "0b48bcff",
   "metadata": {},
   "outputs": [
    {
     "name": "stdout",
     "output_type": "stream",
     "text": [
      "4790629 \t ESCAPE template project\n",
      "4786641 \t ZenodoCI\n",
      "4687123 \t cosimoNigro/agnpy: v0.0.10: added EPWL for electrons and off-axis absorption calculation\n",
      "4601451 \t gLike: numerical maximization of heterogeneous joint likelihood functions of a common free parameter plus nuisance parameters\n",
      "4419866 \t IndexedConv/IndexedConv: v1.3\n",
      "4044010 \t EOSC - a tool for enabling Open Science in Europe\n",
      "3854976 \t FairRootGroup/DDS\n",
      "3743489 \t ESCAPE the maze\n",
      "3675081 \t ESFRI cluster projects - Position papers on expectations and planned contributions to the EOSC\n",
      "3659184 \t ctapipe_io_mchdf5\n",
      "3614662 \t FairRoot\n",
      "3362435 \t FairMQ\n",
      "3356656 \t A prototype for a real time pipeline for the detection of transient signals and their automatic classification\n"
     ]
    }
   ],
   "source": [
    "# Example to retrieve entries_ids and titles\n",
    "for entry in all_entries:\n",
    "    print(f\"{entry['id']} \\t {entry['metadata']['title']}\")"
   ]
  },
  {
   "cell_type": "code",
   "execution_count": 11,
   "id": "e2afd195",
   "metadata": {},
   "outputs": [
    {
     "name": "stdout",
     "output_type": "stream",
     "text": [
      "4790629 \t ['ESCAPE']\n",
      "4786641 \t ['ESCAPE']\n",
      "4419866 \t ['CTA']\n",
      "4044010 \t ['European Open Science Cloud, ESFRI, e-Infrastructures']\n",
      "3743489 \t ['ESCAPE']\n",
      "3659184 \t ['CTA']\n",
      "3614662 \t ['geant4', 'c-plus-plus', 'cmake', 'reconstruction', 'vmc', 'modular', 'analysis', 'simulation']\n",
      "3356656 \t ['Machine Learning, Big Data, Aapche Kafka, Gravitational Wave']\n"
     ]
    }
   ],
   "source": [
    "# Example of all the keywords within each entry\n",
    "for entry in all_entries:\n",
    "    try:\n",
    "        print(f\"{entry['id']} \\t {entry['metadata']['keywords']}\")\n",
    "    except KeyError:\n",
    "        pass"
   ]
  },
  {
   "cell_type": "markdown",
   "id": "e9007eef",
   "metadata": {},
   "source": [
    "#### Let's explore a specific ESCAPE2020 entry, for example `agnpy`."
   ]
  },
  {
   "cell_type": "code",
   "execution_count": 12,
   "id": "75b4de93",
   "metadata": {},
   "outputs": [
    {
     "data": {
      "text/plain": [
       "dict_keys(['conceptdoi', 'conceptrecid', 'created', 'doi', 'files', 'id', 'links', 'metadata', 'owners', 'revision', 'stats', 'updated'])"
      ]
     },
     "execution_count": 12,
     "metadata": {},
     "output_type": "execute_result"
    }
   ],
   "source": [
    "agnpy = requests.get('https://zenodo.org/api/records/4687123', params=parameters).json()\n",
    "agnpy.keys()"
   ]
  },
  {
   "cell_type": "code",
   "execution_count": 13,
   "id": "39be15f1",
   "metadata": {},
   "outputs": [
    {
     "data": {
      "text/plain": [
       "{'access_right': 'open',\n",
       " 'access_right_category': 'success',\n",
       " 'communities': [{'id': 'escape2020'}],\n",
       " 'creators': [{'affiliation': \"Institut de Física d'Altes Energies (IFAE)\",\n",
       "   'name': 'Cosimo Nigro'},\n",
       "  {'name': 'Julian Sitarek'},\n",
       "  {'affiliation': 'Minnesota State University Moorhead', 'name': 'Matt Craig'},\n",
       "  {'name': 'Paweł Gliwny'},\n",
       "  {'affiliation': '@sourcery-ai', 'name': 'Sourcery AI'}],\n",
       " 'description': '<p>In this release the major features added are:</p>\\n<ul>\\n<li><p>an exponential cutoff power-law for the electron spectra;</p>\\n</li>\\n<li><p>the possibility to compute the gamma-gamma opacity for misaligned sources (<code>viewing angle != 0</code>) for the following targets: point source behind the jet, BLR and the DT.</p>\\n</li>\\n</ul>',\n",
       " 'doi': '10.5281/zenodo.4687123',\n",
       " 'license': {'id': 'other-open'},\n",
       " 'publication_date': '2021-04-14',\n",
       " 'related_identifiers': [{'identifier': 'https://github.com/cosimoNigro/agnpy/tree/v0.0.10',\n",
       "   'relation': 'isSupplementTo',\n",
       "   'scheme': 'url'},\n",
       "  {'identifier': '10.5281/zenodo.4055175',\n",
       "   'relation': 'isVersionOf',\n",
       "   'scheme': 'doi'}],\n",
       " 'relations': {'version': [{'count': 4,\n",
       "    'index': 3,\n",
       "    'is_last': True,\n",
       "    'last_child': {'pid_type': 'recid', 'pid_value': '4687123'},\n",
       "    'parent': {'pid_type': 'recid', 'pid_value': '4055175'}}]},\n",
       " 'resource_type': {'title': 'Software', 'type': 'software'},\n",
       " 'title': 'cosimoNigro/agnpy: v0.0.10: added EPWL for electrons and off-axis absorption calculation',\n",
       " 'version': 'v0.0.10'}"
      ]
     },
     "execution_count": 13,
     "metadata": {},
     "output_type": "execute_result"
    }
   ],
   "source": [
    "agnpy['metadata']"
   ]
  },
  {
   "cell_type": "code",
   "execution_count": 14,
   "id": "1ee7197f",
   "metadata": {},
   "outputs": [
    {
     "name": "stdout",
     "output_type": "stream",
     "text": [
      "https://zenodo.org/api/files/a806b549-922e-4025-9453-a5f4c0913fdd/cosimoNigro/agnpy-v0.0.10.zip\n"
     ]
    }
   ],
   "source": [
    "for file in agnpy['files']:\n",
    "    print(file['links']['self'])"
   ]
  },
  {
   "cell_type": "markdown",
   "id": "bb63887b",
   "metadata": {},
   "source": [
    "We could do a simple `wget` of the previous URL and recover the file updoaded to Zenodo.\n",
    "\n",
    "Let's see and example with various files uploaded."
   ]
  },
  {
   "cell_type": "code",
   "execution_count": 15,
   "id": "16db6ee0",
   "metadata": {},
   "outputs": [],
   "source": [
    "ESCAPE_template = requests.get('https://zenodo.org/api/records/4790629', params=parameters).json()"
   ]
  },
  {
   "cell_type": "code",
   "execution_count": 16,
   "id": "9feca5e6",
   "metadata": {},
   "outputs": [
    {
     "name": "stdout",
     "output_type": "stream",
     "text": [
      "https://zenodo.org/api/files/923a2614-a0fa-4927-bb3b-704168f3c768/codemeta.json\n",
      "https://zenodo.org/api/files/923a2614-a0fa-4927-bb3b-704168f3c768/Singularity\n",
      "https://zenodo.org/api/files/923a2614-a0fa-4927-bb3b-704168f3c768/Singularity.simg\n",
      "https://zenodo.org/api/files/923a2614-a0fa-4927-bb3b-704168f3c768/template_project_escape-v2.1.zip\n"
     ]
    }
   ],
   "source": [
    "for file in ESCAPE_template['files']:\n",
    "    print(file['links']['self'])"
   ]
  },
  {
   "cell_type": "markdown",
   "id": "4070d988",
   "metadata": {},
   "source": [
    "## ZenodoCI\n",
    "\n",
    "All these methods are implemented in the ZenodoCI library (https://gitlab.in2p3.fr/escape2020/wp3/zenodoci), a REST API handler for Zenodo. \n",
    "\n",
    "The library is also in charge of automatise the project's uploads from GitLab to Zenodo (by the use of the GitLab-CI and the REST API handler)."
   ]
  },
  {
   "cell_type": "code",
   "execution_count": 17,
   "id": "6cd7f714",
   "metadata": {},
   "outputs": [],
   "source": [
    "# pip install https://gitlab.in2p3.fr/escape2020/wp3/zenodoci/-/archive/master/zenodoci-master.zip"
   ]
  },
  {
   "cell_type": "code",
   "execution_count": 18,
   "id": "0dbbbd64",
   "metadata": {},
   "outputs": [],
   "source": [
    "from zenodoci.zenodoapi import ZenodoAPI\n",
    "z = ZenodoAPI(access_token=token, sandbox=False)"
   ]
  },
  {
   "cell_type": "code",
   "execution_count": 19,
   "id": "2037338d",
   "metadata": {},
   "outputs": [
    {
     "data": {
      "text/plain": [
       "13"
      ]
     },
     "execution_count": 19,
     "metadata": {},
     "output_type": "execute_result"
    }
   ],
   "source": [
    "entries = z.fetch_community_entries(community_name='escape2020', \n",
    "                                    results_per_query=100)\n",
    "entries.json()['hits']['total']"
   ]
  },
  {
   "cell_type": "code",
   "execution_count": 20,
   "id": "3985383f",
   "metadata": {},
   "outputs": [
    {
     "name": "stdout",
     "output_type": "stream",
     "text": [
      "4790629 ESCAPE template project\n",
      "4786641 ZenodoCI\n",
      "4687123 cosimoNigro/agnpy: v0.0.10: added EPWL for electrons and off-axis absorption calculation\n",
      "4601451 gLike: numerical maximization of heterogeneous joint likelihood functions of a common free parameter plus nuisance parameters\n",
      "4419866 IndexedConv/IndexedConv: v1.3\n",
      "4044010 EOSC - a tool for enabling Open Science in Europe\n",
      "3854976 FairRootGroup/DDS\n",
      "3743489 ESCAPE the maze\n",
      "3675081 ESFRI cluster projects - Position papers on expectations and planned contributions to the EOSC\n",
      "3659184 ctapipe_io_mchdf5\n",
      "3614662 FairRoot\n",
      "3362435 FairMQ\n",
      "3356656 A prototype for a real time pipeline for the detection of transient signals and their automatic classification\n"
     ]
    }
   ],
   "source": [
    "ids = z.fetch_community_entries_per_id(community_name='escape2020', \n",
    "                                       results_per_query=100)\n",
    "\n",
    "titles = z.fetch_community_entries_per_title(community_name='escape2020', \n",
    "                                            results_per_query=100)\n",
    "\n",
    "for id, title in zip(ids, titles):\n",
    "    print(id, title)"
   ]
  },
  {
   "cell_type": "markdown",
   "id": "595ba083",
   "metadata": {},
   "source": [
    "## PyZenodo3\n",
    "\n",
    "Another equivalent example with the pyzenodo3 library"
   ]
  },
  {
   "cell_type": "code",
   "execution_count": 21,
   "id": "91985172",
   "metadata": {},
   "outputs": [],
   "source": [
    "# pip install pyzenodo3"
   ]
  },
  {
   "cell_type": "code",
   "execution_count": 22,
   "id": "7cd937b9",
   "metadata": {},
   "outputs": [],
   "source": [
    "import pyzenodo3\n",
    "\n",
    "zen = pyzenodo3.Zenodo()\n",
    "records = zen.search('agnpy')"
   ]
  },
  {
   "cell_type": "code",
   "execution_count": 23,
   "id": "815578d9",
   "metadata": {},
   "outputs": [
    {
     "data": {
      "text/plain": [
       "{'conceptdoi': '10.5281/zenodo.4055175',\n",
       " 'conceptrecid': '4055175',\n",
       " 'created': '2021-04-14T13:49:58.312657+00:00',\n",
       " 'doi': '10.5281/zenodo.4687123',\n",
       " 'files': [{'bucket': 'a806b549-922e-4025-9453-a5f4c0913fdd',\n",
       "   'checksum': 'md5:21e85ec3ec312b54e45b39998b4dfa4b',\n",
       "   'key': 'cosimoNigro/agnpy-v0.0.10.zip',\n",
       "   'links': {'self': 'https://zenodo.org/api/files/a806b549-922e-4025-9453-a5f4c0913fdd/cosimoNigro/agnpy-v0.0.10.zip'},\n",
       "   'size': 4662766,\n",
       "   'type': 'zip'}],\n",
       " 'id': 4687123,\n",
       " 'links': {'badge': 'https://zenodo.org/badge/doi/10.5281/zenodo.4687123.svg',\n",
       "  'bucket': 'https://zenodo.org/api/files/a806b549-922e-4025-9453-a5f4c0913fdd',\n",
       "  'conceptbadge': 'https://zenodo.org/badge/doi/10.5281/zenodo.4055175.svg',\n",
       "  'conceptdoi': 'https://doi.org/10.5281/zenodo.4055175',\n",
       "  'doi': 'https://doi.org/10.5281/zenodo.4687123',\n",
       "  'html': 'https://zenodo.org/record/4687123',\n",
       "  'latest': 'https://zenodo.org/api/records/4687123',\n",
       "  'latest_html': 'https://zenodo.org/record/4687123',\n",
       "  'self': 'https://zenodo.org/api/records/4687123'},\n",
       " 'metadata': {'access_right': 'open',\n",
       "  'access_right_category': 'success',\n",
       "  'communities': [{'id': 'escape2020'}],\n",
       "  'creators': [{'affiliation': \"Institut de Física d'Altes Energies (IFAE)\",\n",
       "    'name': 'Cosimo Nigro'},\n",
       "   {'name': 'Julian Sitarek'},\n",
       "   {'affiliation': 'Minnesota State University Moorhead',\n",
       "    'name': 'Matt Craig'},\n",
       "   {'name': 'Paweł Gliwny'},\n",
       "   {'affiliation': '@sourcery-ai', 'name': 'Sourcery AI'}],\n",
       "  'description': '<p>In this release the major features added are:</p>\\n<ul>\\n<li><p>an exponential cutoff power-law for the electron spectra;</p>\\n</li>\\n<li><p>the possibility to compute the gamma-gamma opacity for misaligned sources (<code>viewing angle != 0</code>) for the following targets: point source behind the jet, BLR and the DT.</p>\\n</li>\\n</ul>',\n",
       "  'doi': '10.5281/zenodo.4687123',\n",
       "  'license': {'id': 'other-open'},\n",
       "  'publication_date': '2021-04-14',\n",
       "  'related_identifiers': [{'identifier': 'https://github.com/cosimoNigro/agnpy/tree/v0.0.10',\n",
       "    'relation': 'isSupplementTo',\n",
       "    'scheme': 'url'},\n",
       "   {'identifier': '10.5281/zenodo.4055175',\n",
       "    'relation': 'isVersionOf',\n",
       "    'scheme': 'doi'}],\n",
       "  'relations': {'version': [{'count': 4,\n",
       "     'index': 3,\n",
       "     'is_last': True,\n",
       "     'last_child': {'pid_type': 'recid', 'pid_value': '4687123'},\n",
       "     'parent': {'pid_type': 'recid', 'pid_value': '4055175'}}]},\n",
       "  'resource_type': {'title': 'Software', 'type': 'software'},\n",
       "  'title': 'cosimoNigro/agnpy: v0.0.10: added EPWL for electrons and off-axis absorption calculation',\n",
       "  'version': 'v0.0.10'},\n",
       " 'owners': [99841],\n",
       " 'revision': 3,\n",
       " 'stats': {'downloads': 3.0,\n",
       "  'unique_downloads': 3.0,\n",
       "  'unique_views': 47.0,\n",
       "  'version_downloads': 14.0,\n",
       "  'version_unique_downloads': 13.0,\n",
       "  'version_unique_views': 203.0,\n",
       "  'version_views': 323.0,\n",
       "  'version_volume': 64618051.0,\n",
       "  'views': 54.0,\n",
       "  'volume': 13988298.0},\n",
       " 'updated': '2021-04-15T12:27:24.365504+00:00'}"
      ]
     },
     "execution_count": 23,
     "metadata": {},
     "output_type": "execute_result"
    }
   ],
   "source": [
    "records[0].data"
   ]
  },
  {
   "cell_type": "code",
   "execution_count": null,
   "id": "7703b312",
   "metadata": {},
   "outputs": [],
   "source": []
  }
 ],
 "metadata": {
  "kernelspec": {
   "display_name": "Python 3",
   "language": "python",
   "name": "python3"
  },
  "language_info": {
   "codemirror_mode": {
    "name": "ipython",
    "version": 3
   },
   "file_extension": ".py",
   "mimetype": "text/x-python",
   "name": "python",
   "nbconvert_exporter": "python",
   "pygments_lexer": "ipython3",
   "version": "3.6.10"
  }
 },
 "nbformat": 4,
 "nbformat_minor": 5
}
